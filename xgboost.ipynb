{
 "cells": [
  {
   "cell_type": "code",
   "execution_count": 1,
   "id": "42172ce6",
   "metadata": {},
   "outputs": [],
   "source": [
    "import pandas as pd\n",
    "import numpy as np\n",
    "from sklearn import preprocessing\n",
    "df = pd.read_csv(\"bcc.csv\")\n",
    "x = df[['SF','Finantial resources (Rs)', 'Placement & Higher studies', 'Publications']]\n",
    "y = df[['efficiency']]"
   ]
  },
  {
   "cell_type": "code",
   "execution_count": 2,
   "id": "9168260c",
   "metadata": {},
   "outputs": [],
   "source": [
    "import xgboost as xg\n",
    "from sklearn.model_selection import train_test_split\n",
    "from sklearn.metrics import mean_squared_error as MSE\n",
    "# Splitting dataset\n",
    "train_X, test_X, train_y, test_y = train_test_split(x, y,\n",
    "                      test_size = 0.33, random_state = 123)\n",
    "# Instantiation\n",
    "xgb_r = xg.XGBRegressor(objective ='reg:squarederror',\n",
    "                  n_estimators = 10, seed = 123)\n",
    "# Fitting the model\n",
    "xgb_r.fit(train_X, train_y)\n",
    "# Predict the model\n",
    "y_pred = xgb_r.predict(test_X)"
   ]
  },
  {
   "cell_type": "code",
   "execution_count": 3,
   "id": "a33b3071",
   "metadata": {},
   "outputs": [
    {
     "data": {
      "text/plain": [
       "array([0.41246647, 0.51952845, 0.9352176 , 0.37341386, 0.5253999 ,\n",
       "       0.88972104, 0.23390514, 0.43091574, 0.39092293, 0.9352176 ,\n",
       "       0.90450907, 0.6806995 , 0.4642554 , 0.5030402 , 0.38485348,\n",
       "       0.24643762, 0.35863656, 0.37156498, 0.47561318, 0.9352176 ],\n",
       "      dtype=float32)"
      ]
     },
     "execution_count": 3,
     "metadata": {},
     "output_type": "execute_result"
    }
   ],
   "source": [
    "y_pred"
   ]
  },
  {
   "cell_type": "code",
   "execution_count": 4,
   "id": "061359d6",
   "metadata": {},
   "outputs": [],
   "source": [
    "test_y[\"predicted value\"]=y_pred"
   ]
  },
  {
   "cell_type": "code",
   "execution_count": 5,
   "id": "05ac1f41",
   "metadata": {},
   "outputs": [
    {
     "data": {
      "text/html": [
       "<div>\n",
       "<style scoped>\n",
       "    .dataframe tbody tr th:only-of-type {\n",
       "        vertical-align: middle;\n",
       "    }\n",
       "\n",
       "    .dataframe tbody tr th {\n",
       "        vertical-align: top;\n",
       "    }\n",
       "\n",
       "    .dataframe thead th {\n",
       "        text-align: right;\n",
       "    }\n",
       "</style>\n",
       "<table border=\"1\" class=\"dataframe\">\n",
       "  <thead>\n",
       "    <tr style=\"text-align: right;\">\n",
       "      <th></th>\n",
       "      <th>efficiency</th>\n",
       "      <th>predicted value</th>\n",
       "    </tr>\n",
       "  </thead>\n",
       "  <tbody>\n",
       "    <tr>\n",
       "      <th>24</th>\n",
       "      <td>0.4553</td>\n",
       "      <td>0.412466</td>\n",
       "    </tr>\n",
       "    <tr>\n",
       "      <th>39</th>\n",
       "      <td>1.0000</td>\n",
       "      <td>0.519528</td>\n",
       "    </tr>\n",
       "    <tr>\n",
       "      <th>15</th>\n",
       "      <td>0.7019</td>\n",
       "      <td>0.935218</td>\n",
       "    </tr>\n",
       "    <tr>\n",
       "      <th>31</th>\n",
       "      <td>0.3600</td>\n",
       "      <td>0.373414</td>\n",
       "    </tr>\n",
       "    <tr>\n",
       "      <th>43</th>\n",
       "      <td>0.5619</td>\n",
       "      <td>0.525400</td>\n",
       "    </tr>\n",
       "    <tr>\n",
       "      <th>52</th>\n",
       "      <td>1.0000</td>\n",
       "      <td>0.889721</td>\n",
       "    </tr>\n",
       "    <tr>\n",
       "      <th>18</th>\n",
       "      <td>0.1857</td>\n",
       "      <td>0.233905</td>\n",
       "    </tr>\n",
       "    <tr>\n",
       "      <th>40</th>\n",
       "      <td>0.6859</td>\n",
       "      <td>0.430916</td>\n",
       "    </tr>\n",
       "    <tr>\n",
       "      <th>55</th>\n",
       "      <td>0.7707</td>\n",
       "      <td>0.390923</td>\n",
       "    </tr>\n",
       "    <tr>\n",
       "      <th>13</th>\n",
       "      <td>0.6087</td>\n",
       "      <td>0.935218</td>\n",
       "    </tr>\n",
       "    <tr>\n",
       "      <th>26</th>\n",
       "      <td>0.3854</td>\n",
       "      <td>0.904509</td>\n",
       "    </tr>\n",
       "    <tr>\n",
       "      <th>27</th>\n",
       "      <td>1.0000</td>\n",
       "      <td>0.680700</td>\n",
       "    </tr>\n",
       "    <tr>\n",
       "      <th>54</th>\n",
       "      <td>0.5490</td>\n",
       "      <td>0.464255</td>\n",
       "    </tr>\n",
       "    <tr>\n",
       "      <th>23</th>\n",
       "      <td>0.3837</td>\n",
       "      <td>0.503040</td>\n",
       "    </tr>\n",
       "    <tr>\n",
       "      <th>11</th>\n",
       "      <td>0.3634</td>\n",
       "      <td>0.384853</td>\n",
       "    </tr>\n",
       "    <tr>\n",
       "      <th>0</th>\n",
       "      <td>0.7515</td>\n",
       "      <td>0.246438</td>\n",
       "    </tr>\n",
       "    <tr>\n",
       "      <th>5</th>\n",
       "      <td>0.4242</td>\n",
       "      <td>0.358637</td>\n",
       "    </tr>\n",
       "    <tr>\n",
       "      <th>10</th>\n",
       "      <td>0.2370</td>\n",
       "      <td>0.371565</td>\n",
       "    </tr>\n",
       "    <tr>\n",
       "      <th>30</th>\n",
       "      <td>0.3528</td>\n",
       "      <td>0.475613</td>\n",
       "    </tr>\n",
       "    <tr>\n",
       "      <th>8</th>\n",
       "      <td>0.3895</td>\n",
       "      <td>0.935218</td>\n",
       "    </tr>\n",
       "  </tbody>\n",
       "</table>\n",
       "</div>"
      ],
      "text/plain": [
       "    efficiency  predicted value\n",
       "24      0.4553         0.412466\n",
       "39      1.0000         0.519528\n",
       "15      0.7019         0.935218\n",
       "31      0.3600         0.373414\n",
       "43      0.5619         0.525400\n",
       "52      1.0000         0.889721\n",
       "18      0.1857         0.233905\n",
       "40      0.6859         0.430916\n",
       "55      0.7707         0.390923\n",
       "13      0.6087         0.935218\n",
       "26      0.3854         0.904509\n",
       "27      1.0000         0.680700\n",
       "54      0.5490         0.464255\n",
       "23      0.3837         0.503040\n",
       "11      0.3634         0.384853\n",
       "0       0.7515         0.246438\n",
       "5       0.4242         0.358637\n",
       "10      0.2370         0.371565\n",
       "30      0.3528         0.475613\n",
       "8       0.3895         0.935218"
      ]
     },
     "execution_count": 5,
     "metadata": {},
     "output_type": "execute_result"
    }
   ],
   "source": [
    "test_y"
   ]
  },
  {
   "cell_type": "code",
   "execution_count": 6,
   "id": "3207987c",
   "metadata": {
    "scrolled": true
   },
   "outputs": [
    {
     "name": "stdout",
     "output_type": "stream",
     "text": [
      "0.08955541467201045\n"
     ]
    }
   ],
   "source": [
    "#R-squared value \n",
    "corr_matrix = np.corrcoef(test_y['efficiency'].values,y_pred)\n",
    "corr = corr_matrix[0,1]\n",
    "R_sq = corr**2\n",
    " \n",
    "print(R_sq)\n"
   ]
  },
  {
   "cell_type": "code",
   "execution_count": 7,
   "id": "033d50e6",
   "metadata": {},
   "outputs": [],
   "source": [
    "def mape(actual, pred): #MAPE, should be less, should be less than 20\n",
    "    actual, pred = np.array(actual), np.array(pred)\n",
    "    return np.mean(np.abs((actual - pred) / actual)) * 100 #computing arithmrtic mean"
   ]
  },
  {
   "cell_type": "code",
   "execution_count": 8,
   "id": "13646724",
   "metadata": {},
   "outputs": [
    {
     "name": "stdout",
     "output_type": "stream",
     "text": [
      "1: 40.57117760379438\n"
     ]
    }
   ],
   "source": [
    "print(\"1:\",mape(test_y['efficiency'],test_y[\"predicted value\"]))"
   ]
  },
  {
   "cell_type": "code",
   "execution_count": null,
   "id": "4a8e1623",
   "metadata": {},
   "outputs": [],
   "source": []
  }
 ],
 "metadata": {
  "kernelspec": {
   "display_name": "Python 3 (ipykernel)",
   "language": "python",
   "name": "python3"
  },
  "language_info": {
   "codemirror_mode": {
    "name": "ipython",
    "version": 3
   },
   "file_extension": ".py",
   "mimetype": "text/x-python",
   "name": "python",
   "nbconvert_exporter": "python",
   "pygments_lexer": "ipython3",
   "version": "3.9.6"
  }
 },
 "nbformat": 4,
 "nbformat_minor": 5
}
